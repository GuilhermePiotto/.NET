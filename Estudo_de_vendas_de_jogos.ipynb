{
  "nbformat": 4,
  "nbformat_minor": 0,
  "metadata": {
    "colab": {
      "name": "Estudo de vendas de jogos",
      "provenance": [],
      "collapsed_sections": [],
      "authorship_tag": "ABX9TyPHz0p+i2xBOegF51hVa2i6",
      "include_colab_link": true
    },
    "kernelspec": {
      "name": "python3",
      "display_name": "Python 3"
    },
    "language_info": {
      "name": "python"
    }
  },
  "cells": [
    {
      "cell_type": "markdown",
      "metadata": {
        "id": "view-in-github",
        "colab_type": "text"
      },
      "source": [
        "<a href=\"https://colab.research.google.com/github/GuilhermePiotto/.NET/blob/main/Estudo_de_vendas_de_jogos.ipynb\" target=\"_parent\"><img src=\"https://colab.research.google.com/assets/colab-badge.svg\" alt=\"Open In Colab\"/></a>"
      ]
    },
    {
      "cell_type": "code",
      "metadata": {
        "id": "MVtKi0vOij_Y"
      },
      "source": [
        ""
      ],
      "execution_count": null,
      "outputs": []
    },
    {
      "cell_type": "code",
      "metadata": {
        "id": "cv41v6ztjxVc"
      },
      "source": [
        "#Trazer o Pandas para utilização\n",
        "import pandas as pd \n",
        "import numpy as np\n",
        "import seaborn as sns"
      ],
      "execution_count": null,
      "outputs": []
    },
    {
      "cell_type": "code",
      "metadata": {
        "id": "7qqC71Gyj1NI"
      },
      "source": [
        "games = pd.read_csv(\"vgscore.csv\", header=0)"
      ],
      "execution_count": null,
      "outputs": []
    },
    {
      "cell_type": "code",
      "metadata": {
        "colab": {
          "base_uri": "https://localhost:8080/",
          "height": 400
        },
        "id": "LrvEDRdSkFdT",
        "outputId": "610fa14c-504c-414a-f8e5-eea9d98971f7"
      },
      "source": [
        "games.head()"
      ],
      "execution_count": null,
      "outputs": [
        {
          "output_type": "execute_result",
          "data": {
            "text/html": [
              "<div>\n",
              "<style scoped>\n",
              "    .dataframe tbody tr th:only-of-type {\n",
              "        vertical-align: middle;\n",
              "    }\n",
              "\n",
              "    .dataframe tbody tr th {\n",
              "        vertical-align: top;\n",
              "    }\n",
              "\n",
              "    .dataframe thead th {\n",
              "        text-align: right;\n",
              "    }\n",
              "</style>\n",
              "<table border=\"1\" class=\"dataframe\">\n",
              "  <thead>\n",
              "    <tr style=\"text-align: right;\">\n",
              "      <th></th>\n",
              "      <th>title</th>\n",
              "      <th>user_Score</th>\n",
              "      <th>release_Date</th>\n",
              "      <th>console</th>\n",
              "      <th>url</th>\n",
              "      <th>publisher</th>\n",
              "      <th>developer</th>\n",
              "      <th>tot_ship</th>\n",
              "      <th>tot_sale</th>\n",
              "      <th>na_sale</th>\n",
              "      <th>pal_sale</th>\n",
              "      <th>jp_sale</th>\n",
              "      <th>other_sale</th>\n",
              "      <th>last_update</th>\n",
              "      <th>VGscore</th>\n",
              "    </tr>\n",
              "  </thead>\n",
              "  <tbody>\n",
              "    <tr>\n",
              "      <th>0</th>\n",
              "      <td>Wii Sports</td>\n",
              "      <td>N/A</td>\n",
              "      <td>19th Nov 06</td>\n",
              "      <td>Wii</td>\n",
              "      <td>http://www.vgchartz.com/game/2667/wii-sports/?...</td>\n",
              "      <td>Nintendo</td>\n",
              "      <td>Nintendo EAD</td>\n",
              "      <td>82.87m</td>\n",
              "      <td>NaN</td>\n",
              "      <td>NaN</td>\n",
              "      <td>NaN</td>\n",
              "      <td>NaN</td>\n",
              "      <td>NaN</td>\n",
              "      <td>NaN</td>\n",
              "      <td>N/A</td>\n",
              "    </tr>\n",
              "    <tr>\n",
              "      <th>1</th>\n",
              "      <td>Super Mario Bros.</td>\n",
              "      <td>8.2</td>\n",
              "      <td>18th Oct 85</td>\n",
              "      <td>NES</td>\n",
              "      <td>http://www.vgchartz.com/game/6455/super-mario-...</td>\n",
              "      <td>Nintendo</td>\n",
              "      <td>Nintendo EAD</td>\n",
              "      <td>40.24m</td>\n",
              "      <td>NaN</td>\n",
              "      <td>NaN</td>\n",
              "      <td>NaN</td>\n",
              "      <td>NaN</td>\n",
              "      <td>NaN</td>\n",
              "      <td>NaN</td>\n",
              "      <td>N/A</td>\n",
              "    </tr>\n",
              "    <tr>\n",
              "      <th>2</th>\n",
              "      <td>Mario Kart Wii</td>\n",
              "      <td>9.1</td>\n",
              "      <td>27th Apr 08</td>\n",
              "      <td>Wii</td>\n",
              "      <td>http://www.vgchartz.com/game/6968/mario-kart-w...</td>\n",
              "      <td>Nintendo</td>\n",
              "      <td>Nintendo EAD</td>\n",
              "      <td>37.20m</td>\n",
              "      <td>NaN</td>\n",
              "      <td>NaN</td>\n",
              "      <td>NaN</td>\n",
              "      <td>NaN</td>\n",
              "      <td>NaN</td>\n",
              "      <td>11th Apr 18</td>\n",
              "      <td>8.7</td>\n",
              "    </tr>\n",
              "    <tr>\n",
              "      <th>3</th>\n",
              "      <td>PlayerUnknown's Battlegrounds</td>\n",
              "      <td>N/A</td>\n",
              "      <td>21st Dec 17</td>\n",
              "      <td>PC</td>\n",
              "      <td>http://www.vgchartz.com/game/215988/playerunkn...</td>\n",
              "      <td>PUBG Corporation</td>\n",
              "      <td>PUBG Corporation</td>\n",
              "      <td>36.60m</td>\n",
              "      <td>NaN</td>\n",
              "      <td>NaN</td>\n",
              "      <td>NaN</td>\n",
              "      <td>NaN</td>\n",
              "      <td>NaN</td>\n",
              "      <td>13th Nov 18</td>\n",
              "      <td>N/A</td>\n",
              "    </tr>\n",
              "    <tr>\n",
              "      <th>4</th>\n",
              "      <td>Wii Sports Resort</td>\n",
              "      <td>8.8</td>\n",
              "      <td>26th Jul 09</td>\n",
              "      <td>Wii</td>\n",
              "      <td>http://www.vgchartz.com/game/24656/wii-sports-...</td>\n",
              "      <td>Nintendo</td>\n",
              "      <td>Nintendo EAD</td>\n",
              "      <td>33.10m</td>\n",
              "      <td>NaN</td>\n",
              "      <td>NaN</td>\n",
              "      <td>NaN</td>\n",
              "      <td>NaN</td>\n",
              "      <td>NaN</td>\n",
              "      <td>NaN</td>\n",
              "      <td>8.8</td>\n",
              "    </tr>\n",
              "  </tbody>\n",
              "</table>\n",
              "</div>"
            ],
            "text/plain": [
              "                               title user_Score  ...  last_update VGscore\n",
              "0                     Wii Sports          N/A    ...          NaN   N/A  \n",
              "1              Super Mario Bros.            8.2  ...          NaN   N/A  \n",
              "2                 Mario Kart Wii            9.1  ...  11th Apr 18     8.7\n",
              "3  PlayerUnknown's Battlegrounds          N/A    ...  13th Nov 18   N/A  \n",
              "4              Wii Sports Resort            8.8  ...          NaN     8.8\n",
              "\n",
              "[5 rows x 15 columns]"
            ]
          },
          "metadata": {
            "tags": []
          },
          "execution_count": 32
        }
      ]
    },
    {
      "cell_type": "code",
      "metadata": {
        "colab": {
          "base_uri": "https://localhost:8080/"
        },
        "id": "1-ySwOgFkg6X",
        "outputId": "010a9b5c-4e97-41a1-926c-d0249e84b56b"
      },
      "source": [
        "games.shape"
      ],
      "execution_count": null,
      "outputs": [
        {
          "output_type": "execute_result",
          "data": {
            "text/plain": [
              "(55864, 15)"
            ]
          },
          "metadata": {
            "tags": []
          },
          "execution_count": 33
        }
      ]
    },
    {
      "cell_type": "code",
      "metadata": {
        "colab": {
          "base_uri": "https://localhost:8080/"
        },
        "id": "rUey4uZSkoyh",
        "outputId": "cedc2576-d169-49b4-c2bc-79af35717aa7"
      },
      "source": [
        "games.columns"
      ],
      "execution_count": null,
      "outputs": [
        {
          "output_type": "execute_result",
          "data": {
            "text/plain": [
              "Index(['title', 'user_Score', 'release_Date', 'console', 'url', 'publisher',\n",
              "       'developer', 'tot_ship', 'tot_sale', 'na_sale', 'pal_sale', 'jp_sale',\n",
              "       'other_sale', 'last_update', 'VGscore'],\n",
              "      dtype='object')"
            ]
          },
          "metadata": {
            "tags": []
          },
          "execution_count": 34
        }
      ]
    },
    {
      "cell_type": "code",
      "metadata": {
        "colab": {
          "base_uri": "https://localhost:8080/"
        },
        "id": "Rwpd8B66kyZ6",
        "outputId": "739a2486-5c87-41df-b55b-ab15fdd974ec"
      },
      "source": [
        "games.info()"
      ],
      "execution_count": null,
      "outputs": [
        {
          "output_type": "stream",
          "text": [
            "<class 'pandas.core.frame.DataFrame'>\n",
            "RangeIndex: 55864 entries, 0 to 55863\n",
            "Data columns (total 15 columns):\n",
            " #   Column        Non-Null Count  Dtype \n",
            "---  ------        --------------  ----- \n",
            " 0   title         55864 non-null  object\n",
            " 1   user_Score    55864 non-null  object\n",
            " 2   release_Date  55864 non-null  object\n",
            " 3   console       55864 non-null  object\n",
            " 4   url           55864 non-null  object\n",
            " 5   publisher     55864 non-null  object\n",
            " 6   developer     55864 non-null  object\n",
            " 7   tot_ship      1966 non-null   object\n",
            " 8   tot_sale      19409 non-null  object\n",
            " 9   na_sale       12961 non-null  object\n",
            " 10  pal_sale      13186 non-null  object\n",
            " 11  jp_sale       7041 non-null   object\n",
            " 12  other_sale    15518 non-null  object\n",
            " 13  last_update   9427 non-null   object\n",
            " 14  VGscore       55864 non-null  object\n",
            "dtypes: object(15)\n",
            "memory usage: 6.4+ MB\n"
          ],
          "name": "stdout"
        }
      ]
    },
    {
      "cell_type": "code",
      "metadata": {
        "id": "rTiU1oB0lNGt"
      },
      "source": [
        "for para_trocar in [\"user_Score\",\"VGscore\"]:\n",
        "  games.loc[games[para_trocar] == \"N/A  \", para_trocar] = 0"
      ],
      "execution_count": null,
      "outputs": []
    },
    {
      "cell_type": "code",
      "metadata": {
        "id": "8e3nwqFeqFwz"
      },
      "source": [
        "colunas_para_converter = [\"user_Score\", \"VGscore\"]\n",
        "games[colunas_para_converter] = games[colunas_para_converter].apply(pd.to_numeric)"
      ],
      "execution_count": null,
      "outputs": []
    },
    {
      "cell_type": "code",
      "metadata": {
        "colab": {
          "base_uri": "https://localhost:8080/"
        },
        "id": "jbb_SE1QqeKW",
        "outputId": "1b08fbe0-32ad-4b62-c448-1ae1f51b9d65"
      },
      "source": [
        "games.info()"
      ],
      "execution_count": null,
      "outputs": [
        {
          "output_type": "stream",
          "text": [
            "<class 'pandas.core.frame.DataFrame'>\n",
            "RangeIndex: 55864 entries, 0 to 55863\n",
            "Data columns (total 15 columns):\n",
            " #   Column        Non-Null Count  Dtype  \n",
            "---  ------        --------------  -----  \n",
            " 0   title         55864 non-null  object \n",
            " 1   user_Score    55864 non-null  float64\n",
            " 2   release_Date  55864 non-null  object \n",
            " 3   console       55864 non-null  object \n",
            " 4   url           55864 non-null  object \n",
            " 5   publisher     55864 non-null  object \n",
            " 6   developer     55864 non-null  object \n",
            " 7   tot_ship      1966 non-null   object \n",
            " 8   tot_sale      19409 non-null  object \n",
            " 9   na_sale       12961 non-null  object \n",
            " 10  pal_sale      13186 non-null  object \n",
            " 11  jp_sale       7041 non-null   object \n",
            " 12  other_sale    15518 non-null  object \n",
            " 13  last_update   9427 non-null   object \n",
            " 14  VGscore       55864 non-null  float64\n",
            "dtypes: float64(2), object(13)\n",
            "memory usage: 6.4+ MB\n"
          ],
          "name": "stdout"
        }
      ]
    },
    {
      "cell_type": "code",
      "metadata": {
        "id": "s45lXOeQqtja"
      },
      "source": [
        "games_limpo = games.dropna(subset=['tot_sale'])"
      ],
      "execution_count": null,
      "outputs": []
    },
    {
      "cell_type": "code",
      "metadata": {
        "colab": {
          "base_uri": "https://localhost:8080/"
        },
        "id": "a9U70I2oxn_F",
        "outputId": "ef8f05c0-0d01-4a21-85ac-3d282cf5b93b"
      },
      "source": [
        "games_limpo.isna().sum()"
      ],
      "execution_count": null,
      "outputs": [
        {
          "output_type": "execute_result",
          "data": {
            "text/plain": [
              "title               0\n",
              "user_Score          0\n",
              "release_Date        0\n",
              "console             0\n",
              "url                 0\n",
              "publisher           0\n",
              "developer           0\n",
              "tot_ship        19409\n",
              "tot_sale            0\n",
              "na_sale          6448\n",
              "pal_sale         6223\n",
              "jp_sale         12368\n",
              "other_sale       3891\n",
              "last_update     15480\n",
              "VGscore             0\n",
              "dtype: int64"
            ]
          },
          "metadata": {
            "tags": []
          },
          "execution_count": 41
        }
      ]
    },
    {
      "cell_type": "markdown",
      "metadata": {
        "id": "O-PXwUBDj1lE"
      },
      "source": [
        ""
      ]
    },
    {
      "cell_type": "code",
      "metadata": {
        "colab": {
          "base_uri": "https://localhost:8080/"
        },
        "id": "zqGlcJP4rdeG",
        "outputId": "30949d0c-80f3-433f-d276-533f4b6a69ad"
      },
      "source": [
        "games_limpo.dropna(subset=['na_sale', 'pal_sale', 'jp_sale', 'other_sale'], inplace=True)"
      ],
      "execution_count": null,
      "outputs": [
        {
          "output_type": "stream",
          "text": [
            "/usr/local/lib/python3.7/dist-packages/ipykernel_launcher.py:1: SettingWithCopyWarning: \n",
            "A value is trying to be set on a copy of a slice from a DataFrame\n",
            "\n",
            "See the caveats in the documentation: https://pandas.pydata.org/pandas-docs/stable/user_guide/indexing.html#returning-a-view-versus-a-copy\n",
            "  \"\"\"Entry point for launching an IPython kernel.\n"
          ],
          "name": "stderr"
        }
      ]
    },
    {
      "cell_type": "code",
      "metadata": {
        "colab": {
          "base_uri": "https://localhost:8080/"
        },
        "id": "Gf4GQPHLsKuB",
        "outputId": "64c1fd49-999b-4ff6-e9c3-4d1c254b00ed"
      },
      "source": [
        "games_limpo.isna().sum()"
      ],
      "execution_count": null,
      "outputs": [
        {
          "output_type": "execute_result",
          "data": {
            "text/plain": [
              "title              0\n",
              "user_Score         0\n",
              "release_Date       0\n",
              "console            0\n",
              "url                0\n",
              "publisher          0\n",
              "developer          0\n",
              "tot_ship        2416\n",
              "tot_sale           0\n",
              "na_sale            0\n",
              "pal_sale           0\n",
              "jp_sale            0\n",
              "other_sale         0\n",
              "last_update     1669\n",
              "VGscore            0\n",
              "dtype: int64"
            ]
          },
          "metadata": {
            "tags": []
          },
          "execution_count": 43
        }
      ]
    },
    {
      "cell_type": "code",
      "metadata": {
        "colab": {
          "base_uri": "https://localhost:8080/"
        },
        "id": "1O-Aw01osZoK",
        "outputId": "b0953d6a-f6b0-4280-c59d-766098ae1003"
      },
      "source": [
        "games_limpo.drop(labels=['tot_ship'], axis=1, inplace=True)"
      ],
      "execution_count": null,
      "outputs": [
        {
          "output_type": "stream",
          "text": [
            "/usr/local/lib/python3.7/dist-packages/pandas/core/frame.py:4174: SettingWithCopyWarning: \n",
            "A value is trying to be set on a copy of a slice from a DataFrame\n",
            "\n",
            "See the caveats in the documentation: https://pandas.pydata.org/pandas-docs/stable/user_guide/indexing.html#returning-a-view-versus-a-copy\n",
            "  errors=errors,\n"
          ],
          "name": "stderr"
        }
      ]
    },
    {
      "cell_type": "code",
      "metadata": {
        "colab": {
          "base_uri": "https://localhost:8080/",
          "height": 432
        },
        "id": "lmC1qhx8JEYR",
        "outputId": "9eef53e2-6d78-4604-aebd-7aa18fdeed09"
      },
      "source": [
        "games_limpo.head()"
      ],
      "execution_count": null,
      "outputs": [
        {
          "output_type": "execute_result",
          "data": {
            "text/html": [
              "<div>\n",
              "<style scoped>\n",
              "    .dataframe tbody tr th:only-of-type {\n",
              "        vertical-align: middle;\n",
              "    }\n",
              "\n",
              "    .dataframe tbody tr th {\n",
              "        vertical-align: top;\n",
              "    }\n",
              "\n",
              "    .dataframe thead th {\n",
              "        text-align: right;\n",
              "    }\n",
              "</style>\n",
              "<table border=\"1\" class=\"dataframe\">\n",
              "  <thead>\n",
              "    <tr style=\"text-align: right;\">\n",
              "      <th></th>\n",
              "      <th>title</th>\n",
              "      <th>user_Score</th>\n",
              "      <th>release_Date</th>\n",
              "      <th>console</th>\n",
              "      <th>url</th>\n",
              "      <th>publisher</th>\n",
              "      <th>developer</th>\n",
              "      <th>tot_sale</th>\n",
              "      <th>na_sale</th>\n",
              "      <th>pal_sale</th>\n",
              "      <th>jp_sale</th>\n",
              "      <th>other_sale</th>\n",
              "      <th>last_update</th>\n",
              "      <th>VGscore</th>\n",
              "    </tr>\n",
              "  </thead>\n",
              "  <tbody>\n",
              "    <tr>\n",
              "      <th>19</th>\n",
              "      <td>Grand Theft Auto V</td>\n",
              "      <td>0.0</td>\n",
              "      <td>17th Sep 13</td>\n",
              "      <td>PS3</td>\n",
              "      <td>http://www.vgchartz.com/game/65884/grand-theft...</td>\n",
              "      <td>Rockstar Games</td>\n",
              "      <td>Rockstar North</td>\n",
              "      <td>20.32m</td>\n",
              "      <td>6.37m</td>\n",
              "      <td>9.85m</td>\n",
              "      <td>0.99m</td>\n",
              "      <td>3.12m</td>\n",
              "      <td>NaN</td>\n",
              "      <td>0.0</td>\n",
              "    </tr>\n",
              "    <tr>\n",
              "      <th>20</th>\n",
              "      <td>Grand Theft Auto V</td>\n",
              "      <td>0.0</td>\n",
              "      <td>18th Nov 14</td>\n",
              "      <td>PS4</td>\n",
              "      <td>http://www.vgchartz.com/game/83196/grand-theft...</td>\n",
              "      <td>Rockstar Games</td>\n",
              "      <td>Rockstar North</td>\n",
              "      <td>19.39m</td>\n",
              "      <td>6.06m</td>\n",
              "      <td>9.71m</td>\n",
              "      <td>0.60m</td>\n",
              "      <td>3.02m</td>\n",
              "      <td>03rd Jan 18</td>\n",
              "      <td>0.0</td>\n",
              "    </tr>\n",
              "    <tr>\n",
              "      <th>32</th>\n",
              "      <td>Grand Theft Auto: Vice City</td>\n",
              "      <td>0.0</td>\n",
              "      <td>28th Oct 02</td>\n",
              "      <td>PS2</td>\n",
              "      <td>http://www.vgchartz.com/game/896/grand-theft-a...</td>\n",
              "      <td>Rockstar Games</td>\n",
              "      <td>Rockstar North</td>\n",
              "      <td>16.15m</td>\n",
              "      <td>8.41m</td>\n",
              "      <td>5.49m</td>\n",
              "      <td>0.47m</td>\n",
              "      <td>1.78m</td>\n",
              "      <td>NaN</td>\n",
              "      <td>0.0</td>\n",
              "    </tr>\n",
              "    <tr>\n",
              "      <th>33</th>\n",
              "      <td>Grand Theft Auto V</td>\n",
              "      <td>0.0</td>\n",
              "      <td>17th Sep 13</td>\n",
              "      <td>X360</td>\n",
              "      <td>http://www.vgchartz.com/game/65883/grand-theft...</td>\n",
              "      <td>Rockstar Games</td>\n",
              "      <td>Rockstar North</td>\n",
              "      <td>15.86m</td>\n",
              "      <td>9.06m</td>\n",
              "      <td>5.33m</td>\n",
              "      <td>0.06m</td>\n",
              "      <td>1.42m</td>\n",
              "      <td>NaN</td>\n",
              "      <td>0.0</td>\n",
              "    </tr>\n",
              "    <tr>\n",
              "      <th>35</th>\n",
              "      <td>Call of Duty: Black Ops 3</td>\n",
              "      <td>0.0</td>\n",
              "      <td>06th Nov 15</td>\n",
              "      <td>PS4</td>\n",
              "      <td>http://www.vgchartz.com/game/85359/call-of-dut...</td>\n",
              "      <td>Activision</td>\n",
              "      <td>Treyarch</td>\n",
              "      <td>15.09m</td>\n",
              "      <td>6.18m</td>\n",
              "      <td>6.05m</td>\n",
              "      <td>0.41m</td>\n",
              "      <td>2.44m</td>\n",
              "      <td>14th Jan 18</td>\n",
              "      <td>0.0</td>\n",
              "    </tr>\n",
              "  </tbody>\n",
              "</table>\n",
              "</div>"
            ],
            "text/plain": [
              "                              title  user_Score  ...  last_update VGscore\n",
              "19           Grand Theft Auto V             0.0  ...          NaN     0.0\n",
              "20           Grand Theft Auto V             0.0  ...  03rd Jan 18     0.0\n",
              "32  Grand Theft Auto: Vice City             0.0  ...          NaN     0.0\n",
              "33           Grand Theft Auto V             0.0  ...          NaN     0.0\n",
              "35    Call of Duty: Black Ops 3             0.0  ...  14th Jan 18     0.0\n",
              "\n",
              "[5 rows x 14 columns]"
            ]
          },
          "metadata": {
            "tags": []
          },
          "execution_count": 45
        }
      ]
    },
    {
      "cell_type": "code",
      "metadata": {
        "colab": {
          "base_uri": "https://localhost:8080/"
        },
        "id": "cIhoTL1eJhKr",
        "outputId": "31329a66-3f4b-4ef5-faa6-e8d190243436"
      },
      "source": [
        "games_limpo['tot_sale'] = games_limpo['tot_sale'].str.replace('m', '')"
      ],
      "execution_count": null,
      "outputs": [
        {
          "output_type": "stream",
          "text": [
            "/usr/local/lib/python3.7/dist-packages/ipykernel_launcher.py:1: SettingWithCopyWarning: \n",
            "A value is trying to be set on a copy of a slice from a DataFrame.\n",
            "Try using .loc[row_indexer,col_indexer] = value instead\n",
            "\n",
            "See the caveats in the documentation: https://pandas.pydata.org/pandas-docs/stable/user_guide/indexing.html#returning-a-view-versus-a-copy\n",
            "  \"\"\"Entry point for launching an IPython kernel.\n"
          ],
          "name": "stderr"
        }
      ]
    },
    {
      "cell_type": "code",
      "metadata": {
        "colab": {
          "base_uri": "https://localhost:8080/"
        },
        "id": "SXAZ91D2JpRL",
        "outputId": "aba4a543-148b-4bcc-8b87-340935ab25f2"
      },
      "source": [
        "games_limpo['na_sale'] = games_limpo['na_sale'].str.replace('m', '')\n",
        "games_limpo['jp_sale'] = games_limpo['jp_sale'].str.replace('m', '')\n",
        "games_limpo['pal_sale'] = games_limpo['pal_sale'].str.replace('m', '')\n",
        "games_limpo['other_sale'] = games_limpo['other_sale'].str.replace('m', '')"
      ],
      "execution_count": null,
      "outputs": [
        {
          "output_type": "stream",
          "text": [
            "/usr/local/lib/python3.7/dist-packages/ipykernel_launcher.py:1: SettingWithCopyWarning: \n",
            "A value is trying to be set on a copy of a slice from a DataFrame.\n",
            "Try using .loc[row_indexer,col_indexer] = value instead\n",
            "\n",
            "See the caveats in the documentation: https://pandas.pydata.org/pandas-docs/stable/user_guide/indexing.html#returning-a-view-versus-a-copy\n",
            "  \"\"\"Entry point for launching an IPython kernel.\n",
            "/usr/local/lib/python3.7/dist-packages/ipykernel_launcher.py:2: SettingWithCopyWarning: \n",
            "A value is trying to be set on a copy of a slice from a DataFrame.\n",
            "Try using .loc[row_indexer,col_indexer] = value instead\n",
            "\n",
            "See the caveats in the documentation: https://pandas.pydata.org/pandas-docs/stable/user_guide/indexing.html#returning-a-view-versus-a-copy\n",
            "  \n",
            "/usr/local/lib/python3.7/dist-packages/ipykernel_launcher.py:3: SettingWithCopyWarning: \n",
            "A value is trying to be set on a copy of a slice from a DataFrame.\n",
            "Try using .loc[row_indexer,col_indexer] = value instead\n",
            "\n",
            "See the caveats in the documentation: https://pandas.pydata.org/pandas-docs/stable/user_guide/indexing.html#returning-a-view-versus-a-copy\n",
            "  This is separate from the ipykernel package so we can avoid doing imports until\n",
            "/usr/local/lib/python3.7/dist-packages/ipykernel_launcher.py:4: SettingWithCopyWarning: \n",
            "A value is trying to be set on a copy of a slice from a DataFrame.\n",
            "Try using .loc[row_indexer,col_indexer] = value instead\n",
            "\n",
            "See the caveats in the documentation: https://pandas.pydata.org/pandas-docs/stable/user_guide/indexing.html#returning-a-view-versus-a-copy\n",
            "  after removing the cwd from sys.path.\n"
          ],
          "name": "stderr"
        }
      ]
    },
    {
      "cell_type": "code",
      "metadata": {
        "colab": {
          "base_uri": "https://localhost:8080/"
        },
        "id": "xEH_DK8kJ4fL",
        "outputId": "92afadab-cf48-4ec9-d3bf-966ff1241d4d"
      },
      "source": [
        "games_limpo['na_sale'] = games_limpo['na_sale'].apply(pd.to_numeric)\n",
        "games_limpo['tot_sale'] = games_limpo['tot_sale'].apply(pd.to_numeric)\n",
        "games_limpo['pal_sale'] = games_limpo['pal_sale'].apply(pd.to_numeric)\n",
        "games_limpo['jp_sale'] = games_limpo['jp_sale'].apply(pd.to_numeric)\n",
        "games_limpo['other_sale'] = games_limpo['other_sale'].apply(pd.to_numeric)"
      ],
      "execution_count": null,
      "outputs": [
        {
          "output_type": "stream",
          "text": [
            "/usr/local/lib/python3.7/dist-packages/ipykernel_launcher.py:1: SettingWithCopyWarning: \n",
            "A value is trying to be set on a copy of a slice from a DataFrame.\n",
            "Try using .loc[row_indexer,col_indexer] = value instead\n",
            "\n",
            "See the caveats in the documentation: https://pandas.pydata.org/pandas-docs/stable/user_guide/indexing.html#returning-a-view-versus-a-copy\n",
            "  \"\"\"Entry point for launching an IPython kernel.\n",
            "/usr/local/lib/python3.7/dist-packages/ipykernel_launcher.py:2: SettingWithCopyWarning: \n",
            "A value is trying to be set on a copy of a slice from a DataFrame.\n",
            "Try using .loc[row_indexer,col_indexer] = value instead\n",
            "\n",
            "See the caveats in the documentation: https://pandas.pydata.org/pandas-docs/stable/user_guide/indexing.html#returning-a-view-versus-a-copy\n",
            "  \n",
            "/usr/local/lib/python3.7/dist-packages/ipykernel_launcher.py:3: SettingWithCopyWarning: \n",
            "A value is trying to be set on a copy of a slice from a DataFrame.\n",
            "Try using .loc[row_indexer,col_indexer] = value instead\n",
            "\n",
            "See the caveats in the documentation: https://pandas.pydata.org/pandas-docs/stable/user_guide/indexing.html#returning-a-view-versus-a-copy\n",
            "  This is separate from the ipykernel package so we can avoid doing imports until\n",
            "/usr/local/lib/python3.7/dist-packages/ipykernel_launcher.py:4: SettingWithCopyWarning: \n",
            "A value is trying to be set on a copy of a slice from a DataFrame.\n",
            "Try using .loc[row_indexer,col_indexer] = value instead\n",
            "\n",
            "See the caveats in the documentation: https://pandas.pydata.org/pandas-docs/stable/user_guide/indexing.html#returning-a-view-versus-a-copy\n",
            "  after removing the cwd from sys.path.\n",
            "/usr/local/lib/python3.7/dist-packages/ipykernel_launcher.py:5: SettingWithCopyWarning: \n",
            "A value is trying to be set on a copy of a slice from a DataFrame.\n",
            "Try using .loc[row_indexer,col_indexer] = value instead\n",
            "\n",
            "See the caveats in the documentation: https://pandas.pydata.org/pandas-docs/stable/user_guide/indexing.html#returning-a-view-versus-a-copy\n",
            "  \"\"\"\n"
          ],
          "name": "stderr"
        }
      ]
    },
    {
      "cell_type": "code",
      "metadata": {
        "colab": {
          "base_uri": "https://localhost:8080/"
        },
        "id": "Gmz3etrbKCck",
        "outputId": "5cc1b16e-2c74-450e-9180-1a7a2391c80b"
      },
      "source": [
        "games_limpo.dtypes"
      ],
      "execution_count": null,
      "outputs": [
        {
          "output_type": "execute_result",
          "data": {
            "text/plain": [
              "title            object\n",
              "user_Score      float64\n",
              "release_Date     object\n",
              "console          object\n",
              "url              object\n",
              "publisher        object\n",
              "developer        object\n",
              "tot_sale        float64\n",
              "na_sale         float64\n",
              "pal_sale        float64\n",
              "jp_sale         float64\n",
              "other_sale      float64\n",
              "last_update      object\n",
              "VGscore         float64\n",
              "dtype: object"
            ]
          },
          "metadata": {
            "tags": []
          },
          "execution_count": 49
        }
      ]
    },
    {
      "cell_type": "code",
      "metadata": {
        "colab": {
          "base_uri": "https://localhost:8080/",
          "height": 300
        },
        "id": "ywmWC6C5KOd2",
        "outputId": "935f569d-3aed-49f9-b40c-5704739bb8d0"
      },
      "source": [
        "games_limpo.describe()"
      ],
      "execution_count": null,
      "outputs": [
        {
          "output_type": "execute_result",
          "data": {
            "text/html": [
              "<div>\n",
              "<style scoped>\n",
              "    .dataframe tbody tr th:only-of-type {\n",
              "        vertical-align: middle;\n",
              "    }\n",
              "\n",
              "    .dataframe tbody tr th {\n",
              "        vertical-align: top;\n",
              "    }\n",
              "\n",
              "    .dataframe thead th {\n",
              "        text-align: right;\n",
              "    }\n",
              "</style>\n",
              "<table border=\"1\" class=\"dataframe\">\n",
              "  <thead>\n",
              "    <tr style=\"text-align: right;\">\n",
              "      <th></th>\n",
              "      <th>user_Score</th>\n",
              "      <th>tot_sale</th>\n",
              "      <th>na_sale</th>\n",
              "      <th>pal_sale</th>\n",
              "      <th>jp_sale</th>\n",
              "      <th>other_sale</th>\n",
              "      <th>VGscore</th>\n",
              "    </tr>\n",
              "  </thead>\n",
              "  <tbody>\n",
              "    <tr>\n",
              "      <th>count</th>\n",
              "      <td>2416.000000</td>\n",
              "      <td>2416.000000</td>\n",
              "      <td>2416.000000</td>\n",
              "      <td>2416.000000</td>\n",
              "      <td>2416.000000</td>\n",
              "      <td>2416.000000</td>\n",
              "      <td>2416.000000</td>\n",
              "    </tr>\n",
              "    <tr>\n",
              "      <th>mean</th>\n",
              "      <td>0.384644</td>\n",
              "      <td>1.224218</td>\n",
              "      <td>0.549524</td>\n",
              "      <td>0.414942</td>\n",
              "      <td>0.116668</td>\n",
              "      <td>0.143088</td>\n",
              "      <td>0.716722</td>\n",
              "    </tr>\n",
              "    <tr>\n",
              "      <th>std</th>\n",
              "      <td>1.779955</td>\n",
              "      <td>1.830026</td>\n",
              "      <td>0.910366</td>\n",
              "      <td>0.784255</td>\n",
              "      <td>0.191924</td>\n",
              "      <td>0.271224</td>\n",
              "      <td>2.293146</td>\n",
              "    </tr>\n",
              "    <tr>\n",
              "      <th>min</th>\n",
              "      <td>0.000000</td>\n",
              "      <td>0.020000</td>\n",
              "      <td>0.000000</td>\n",
              "      <td>0.000000</td>\n",
              "      <td>0.000000</td>\n",
              "      <td>0.000000</td>\n",
              "      <td>0.000000</td>\n",
              "    </tr>\n",
              "    <tr>\n",
              "      <th>25%</th>\n",
              "      <td>0.000000</td>\n",
              "      <td>0.290000</td>\n",
              "      <td>0.100000</td>\n",
              "      <td>0.040000</td>\n",
              "      <td>0.020000</td>\n",
              "      <td>0.020000</td>\n",
              "      <td>0.000000</td>\n",
              "    </tr>\n",
              "    <tr>\n",
              "      <th>50%</th>\n",
              "      <td>0.000000</td>\n",
              "      <td>0.600000</td>\n",
              "      <td>0.230000</td>\n",
              "      <td>0.150000</td>\n",
              "      <td>0.050000</td>\n",
              "      <td>0.050000</td>\n",
              "      <td>0.000000</td>\n",
              "    </tr>\n",
              "    <tr>\n",
              "      <th>75%</th>\n",
              "      <td>0.000000</td>\n",
              "      <td>1.340000</td>\n",
              "      <td>0.590000</td>\n",
              "      <td>0.450000</td>\n",
              "      <td>0.140000</td>\n",
              "      <td>0.140000</td>\n",
              "      <td>0.000000</td>\n",
              "    </tr>\n",
              "    <tr>\n",
              "      <th>max</th>\n",
              "      <td>10.000000</td>\n",
              "      <td>20.320000</td>\n",
              "      <td>9.760000</td>\n",
              "      <td>9.850000</td>\n",
              "      <td>2.690000</td>\n",
              "      <td>3.120000</td>\n",
              "      <td>9.500000</td>\n",
              "    </tr>\n",
              "  </tbody>\n",
              "</table>\n",
              "</div>"
            ],
            "text/plain": [
              "        user_Score     tot_sale  ...   other_sale      VGscore\n",
              "count  2416.000000  2416.000000  ...  2416.000000  2416.000000\n",
              "mean      0.384644     1.224218  ...     0.143088     0.716722\n",
              "std       1.779955     1.830026  ...     0.271224     2.293146\n",
              "min       0.000000     0.020000  ...     0.000000     0.000000\n",
              "25%       0.000000     0.290000  ...     0.020000     0.000000\n",
              "50%       0.000000     0.600000  ...     0.050000     0.000000\n",
              "75%       0.000000     1.340000  ...     0.140000     0.000000\n",
              "max      10.000000    20.320000  ...     3.120000     9.500000\n",
              "\n",
              "[8 rows x 7 columns]"
            ]
          },
          "metadata": {
            "tags": []
          },
          "execution_count": 50
        }
      ]
    },
    {
      "cell_type": "code",
      "metadata": {
        "colab": {
          "base_uri": "https://localhost:8080/",
          "height": 1000
        },
        "id": "60nZJ4RWK4g7",
        "outputId": "198d32eb-28c2-4cc6-e8d9-1fb7862f59b6"
      },
      "source": [
        "games_interesse.sort_values([\"user_Score\", \"tot_sale\"], ascending = False)"
      ],
      "execution_count": null,
      "outputs": [
        {
          "output_type": "execute_result",
          "data": {
            "text/html": [
              "<div>\n",
              "<style scoped>\n",
              "    .dataframe tbody tr th:only-of-type {\n",
              "        vertical-align: middle;\n",
              "    }\n",
              "\n",
              "    .dataframe tbody tr th {\n",
              "        vertical-align: top;\n",
              "    }\n",
              "\n",
              "    .dataframe thead th {\n",
              "        text-align: right;\n",
              "    }\n",
              "</style>\n",
              "<table border=\"1\" class=\"dataframe\">\n",
              "  <thead>\n",
              "    <tr style=\"text-align: right;\">\n",
              "      <th></th>\n",
              "      <th>title</th>\n",
              "      <th>user_Score</th>\n",
              "      <th>release_Date</th>\n",
              "      <th>console</th>\n",
              "      <th>url</th>\n",
              "      <th>publisher</th>\n",
              "      <th>developer</th>\n",
              "      <th>tot_sale</th>\n",
              "      <th>na_sale</th>\n",
              "      <th>pal_sale</th>\n",
              "      <th>jp_sale</th>\n",
              "      <th>other_sale</th>\n",
              "      <th>last_update</th>\n",
              "      <th>VGscore</th>\n",
              "    </tr>\n",
              "  </thead>\n",
              "  <tbody>\n",
              "    <tr>\n",
              "      <th>160</th>\n",
              "      <td>Red Dead Redemption</td>\n",
              "      <td>10.0</td>\n",
              "      <td>18th May 10</td>\n",
              "      <td>X360</td>\n",
              "      <td>http://www.vgchartz.com/game/31325/red-dead-re...</td>\n",
              "      <td>Rockstar Games</td>\n",
              "      <td>Rockstar San Diego</td>\n",
              "      <td>6.50</td>\n",
              "      <td>3.77</td>\n",
              "      <td>2.03</td>\n",
              "      <td>0.09</td>\n",
              "      <td>0.60</td>\n",
              "      <td>NaN</td>\n",
              "      <td>9.1</td>\n",
              "    </tr>\n",
              "    <tr>\n",
              "      <th>181</th>\n",
              "      <td>Metal Gear Solid 4: Guns of the Patriots</td>\n",
              "      <td>9.8</td>\n",
              "      <td>12th Jun 08</td>\n",
              "      <td>PS3</td>\n",
              "      <td>http://www.vgchartz.com/game/6970/metal-gear-s...</td>\n",
              "      <td>Konami</td>\n",
              "      <td>Kojima Productions</td>\n",
              "      <td>6.00</td>\n",
              "      <td>2.63</td>\n",
              "      <td>1.72</td>\n",
              "      <td>0.83</td>\n",
              "      <td>0.81</td>\n",
              "      <td>NaN</td>\n",
              "      <td>9.5</td>\n",
              "    </tr>\n",
              "    <tr>\n",
              "      <th>205</th>\n",
              "      <td>Forza Motorsport 3</td>\n",
              "      <td>9.8</td>\n",
              "      <td>27th Oct 09</td>\n",
              "      <td>X360</td>\n",
              "      <td>http://www.vgchartz.com/game/30434/forza-motor...</td>\n",
              "      <td>Microsoft Game Studios</td>\n",
              "      <td>Turn 10 Studios</td>\n",
              "      <td>5.50</td>\n",
              "      <td>2.99</td>\n",
              "      <td>1.90</td>\n",
              "      <td>0.10</td>\n",
              "      <td>0.51</td>\n",
              "      <td>NaN</td>\n",
              "      <td>0.0</td>\n",
              "    </tr>\n",
              "    <tr>\n",
              "      <th>151</th>\n",
              "      <td>Uncharted 2: Among Thieves</td>\n",
              "      <td>9.6</td>\n",
              "      <td>13th Oct 09</td>\n",
              "      <td>PS3</td>\n",
              "      <td>http://www.vgchartz.com/game/28733/uncharted-2...</td>\n",
              "      <td>Sony Computer Entertainment</td>\n",
              "      <td>Naughty Dog</td>\n",
              "      <td>6.74</td>\n",
              "      <td>3.28</td>\n",
              "      <td>2.22</td>\n",
              "      <td>0.21</td>\n",
              "      <td>1.02</td>\n",
              "      <td>NaN</td>\n",
              "      <td>9.2</td>\n",
              "    </tr>\n",
              "    <tr>\n",
              "      <th>152</th>\n",
              "      <td>Call of Duty 4: Modern Warfare</td>\n",
              "      <td>9.6</td>\n",
              "      <td>05th Nov 07</td>\n",
              "      <td>PS3</td>\n",
              "      <td>http://www.vgchartz.com/game/7607/call-of-duty...</td>\n",
              "      <td>Activision</td>\n",
              "      <td>Infinity Ward</td>\n",
              "      <td>6.72</td>\n",
              "      <td>3.13</td>\n",
              "      <td>2.27</td>\n",
              "      <td>0.28</td>\n",
              "      <td>1.04</td>\n",
              "      <td>NaN</td>\n",
              "      <td>0.0</td>\n",
              "    </tr>\n",
              "    <tr>\n",
              "      <th>185</th>\n",
              "      <td>LittleBigPlanet</td>\n",
              "      <td>9.2</td>\n",
              "      <td>28th Oct 08</td>\n",
              "      <td>PS3</td>\n",
              "      <td>http://www.vgchartz.com/game/12390/littlebigpl...</td>\n",
              "      <td>Sony Computer Entertainment</td>\n",
              "      <td>Media Molecule</td>\n",
              "      <td>5.85</td>\n",
              "      <td>2.80</td>\n",
              "      <td>2.01</td>\n",
              "      <td>0.17</td>\n",
              "      <td>0.87</td>\n",
              "      <td>NaN</td>\n",
              "      <td>9.2</td>\n",
              "    </tr>\n",
              "    <tr>\n",
              "      <th>218</th>\n",
              "      <td>Final Fantasy XIII</td>\n",
              "      <td>9.2</td>\n",
              "      <td>09th Mar 10</td>\n",
              "      <td>PS3</td>\n",
              "      <td>http://www.vgchartz.com/game/7727/final-fantas...</td>\n",
              "      <td>Square Enix</td>\n",
              "      <td>Square Enix</td>\n",
              "      <td>5.35</td>\n",
              "      <td>1.75</td>\n",
              "      <td>1.23</td>\n",
              "      <td>1.87</td>\n",
              "      <td>0.51</td>\n",
              "      <td>NaN</td>\n",
              "      <td>9.0</td>\n",
              "    </tr>\n",
              "    <tr>\n",
              "      <th>320</th>\n",
              "      <td>Resistance: Fall of Man</td>\n",
              "      <td>9.1</td>\n",
              "      <td>14th Nov 06</td>\n",
              "      <td>PS3</td>\n",
              "      <td>http://www.vgchartz.com/game/1893/resistance-f...</td>\n",
              "      <td>Sony Computer Entertainment</td>\n",
              "      <td>Insomniac Games</td>\n",
              "      <td>4.37</td>\n",
              "      <td>1.74</td>\n",
              "      <td>1.72</td>\n",
              "      <td>0.14</td>\n",
              "      <td>0.76</td>\n",
              "      <td>NaN</td>\n",
              "      <td>8.5</td>\n",
              "    </tr>\n",
              "    <tr>\n",
              "      <th>50</th>\n",
              "      <td>Call of Duty: Modern Warfare 2</td>\n",
              "      <td>9.0</td>\n",
              "      <td>10th Nov 09</td>\n",
              "      <td>X360</td>\n",
              "      <td>http://www.vgchartz.com/game/28848/call-of-dut...</td>\n",
              "      <td>Activision</td>\n",
              "      <td>Infinity Ward</td>\n",
              "      <td>13.53</td>\n",
              "      <td>8.54</td>\n",
              "      <td>3.63</td>\n",
              "      <td>0.08</td>\n",
              "      <td>1.28</td>\n",
              "      <td>NaN</td>\n",
              "      <td>9.0</td>\n",
              "    </tr>\n",
              "    <tr>\n",
              "      <th>80</th>\n",
              "      <td>Grand Theft Auto IV</td>\n",
              "      <td>9.0</td>\n",
              "      <td>29th Apr 08</td>\n",
              "      <td>PS3</td>\n",
              "      <td>http://www.vgchartz.com/game/7102/grand-theft-...</td>\n",
              "      <td>Rockstar Games</td>\n",
              "      <td>Rockstar North</td>\n",
              "      <td>10.57</td>\n",
              "      <td>4.79</td>\n",
              "      <td>3.73</td>\n",
              "      <td>0.44</td>\n",
              "      <td>1.62</td>\n",
              "      <td>NaN</td>\n",
              "      <td>9.0</td>\n",
              "    </tr>\n",
              "    <tr>\n",
              "      <th>94</th>\n",
              "      <td>Call of Duty 4: Modern Warfare</td>\n",
              "      <td>9.0</td>\n",
              "      <td>05th Nov 07</td>\n",
              "      <td>X360</td>\n",
              "      <td>http://www.vgchartz.com/game/7316/call-of-duty...</td>\n",
              "      <td>Activision</td>\n",
              "      <td>Infinity Ward</td>\n",
              "      <td>9.41</td>\n",
              "      <td>5.98</td>\n",
              "      <td>2.39</td>\n",
              "      <td>0.13</td>\n",
              "      <td>0.91</td>\n",
              "      <td>NaN</td>\n",
              "      <td>0.0</td>\n",
              "    </tr>\n",
              "    <tr>\n",
              "      <th>107</th>\n",
              "      <td>Grand Theft Auto V</td>\n",
              "      <td>9.0</td>\n",
              "      <td>18th Nov 14</td>\n",
              "      <td>XOne</td>\n",
              "      <td>http://www.vgchartz.com/game/73074/grand-theft...</td>\n",
              "      <td>Rockstar Games</td>\n",
              "      <td>Rockstar North</td>\n",
              "      <td>8.72</td>\n",
              "      <td>4.70</td>\n",
              "      <td>3.25</td>\n",
              "      <td>0.01</td>\n",
              "      <td>0.76</td>\n",
              "      <td>11th Apr 18</td>\n",
              "      <td>0.0</td>\n",
              "    </tr>\n",
              "    <tr>\n",
              "      <th>284</th>\n",
              "      <td>Monster Hunter: World</td>\n",
              "      <td>9.0</td>\n",
              "      <td>26th Jan 18</td>\n",
              "      <td>PS4</td>\n",
              "      <td>http://www.vgchartz.com/game/182721/monster-hu...</td>\n",
              "      <td>Capcom</td>\n",
              "      <td>Capcom</td>\n",
              "      <td>4.67</td>\n",
              "      <td>1.03</td>\n",
              "      <td>1.06</td>\n",
              "      <td>2.17</td>\n",
              "      <td>0.42</td>\n",
              "      <td>30th Jan 18</td>\n",
              "      <td>0.0</td>\n",
              "    </tr>\n",
              "    <tr>\n",
              "      <th>340</th>\n",
              "      <td>Street Fighter IV</td>\n",
              "      <td>9.0</td>\n",
              "      <td>17th Feb 09</td>\n",
              "      <td>PS3</td>\n",
              "      <td>http://www.vgchartz.com/game/13112/street-figh...</td>\n",
              "      <td>Capcom</td>\n",
              "      <td>Capcom / Dimps Corporation</td>\n",
              "      <td>4.19</td>\n",
              "      <td>2.04</td>\n",
              "      <td>1.05</td>\n",
              "      <td>0.59</td>\n",
              "      <td>0.52</td>\n",
              "      <td>NaN</td>\n",
              "      <td>9.1</td>\n",
              "    </tr>\n",
              "    <tr>\n",
              "      <th>243</th>\n",
              "      <td>Resident Evil 5</td>\n",
              "      <td>8.8</td>\n",
              "      <td>13th Mar 09</td>\n",
              "      <td>PS3</td>\n",
              "      <td>http://www.vgchartz.com/game/7675/resident-evi...</td>\n",
              "      <td>Capcom</td>\n",
              "      <td>Capcom</td>\n",
              "      <td>5.10</td>\n",
              "      <td>1.96</td>\n",
              "      <td>1.42</td>\n",
              "      <td>1.08</td>\n",
              "      <td>0.64</td>\n",
              "      <td>NaN</td>\n",
              "      <td>8.4</td>\n",
              "    </tr>\n",
              "    <tr>\n",
              "      <th>261</th>\n",
              "      <td>Uncharted: Drake's Fortune</td>\n",
              "      <td>8.6</td>\n",
              "      <td>16th Nov 07</td>\n",
              "      <td>PS3</td>\n",
              "      <td>http://www.vgchartz.com/game/12778/uncharted-d...</td>\n",
              "      <td>Sony Computer Entertainment</td>\n",
              "      <td>Naughty Dog</td>\n",
              "      <td>4.97</td>\n",
              "      <td>2.32</td>\n",
              "      <td>1.73</td>\n",
              "      <td>0.12</td>\n",
              "      <td>0.80</td>\n",
              "      <td>NaN</td>\n",
              "      <td>8.7</td>\n",
              "    </tr>\n",
              "    <tr>\n",
              "      <th>263</th>\n",
              "      <td>Fallout 3</td>\n",
              "      <td>8.6</td>\n",
              "      <td>28th Oct 08</td>\n",
              "      <td>X360</td>\n",
              "      <td>http://www.vgchartz.com/game/6992/fallout-3/?r...</td>\n",
              "      <td>Bethesda Softworks</td>\n",
              "      <td>Bethesda Game Studios</td>\n",
              "      <td>4.96</td>\n",
              "      <td>3.41</td>\n",
              "      <td>0.99</td>\n",
              "      <td>0.09</td>\n",
              "      <td>0.46</td>\n",
              "      <td>NaN</td>\n",
              "      <td>8.2</td>\n",
              "    </tr>\n",
              "    <tr>\n",
              "      <th>274</th>\n",
              "      <td>Assassin's Creed</td>\n",
              "      <td>8.5</td>\n",
              "      <td>13th Nov 07</td>\n",
              "      <td>PS3</td>\n",
              "      <td>http://www.vgchartz.com/game/12727/assassins-c...</td>\n",
              "      <td>Ubisoft</td>\n",
              "      <td>Ubisoft Montreal</td>\n",
              "      <td>4.83</td>\n",
              "      <td>1.91</td>\n",
              "      <td>2.01</td>\n",
              "      <td>0.09</td>\n",
              "      <td>0.82</td>\n",
              "      <td>NaN</td>\n",
              "      <td>7.5</td>\n",
              "    </tr>\n",
              "  </tbody>\n",
              "</table>\n",
              "</div>"
            ],
            "text/plain": [
              "                                            title  ...  VGscore\n",
              "160                       Red Dead Redemption      ...      9.1\n",
              "181  Metal Gear Solid 4: Guns of the Patriots      ...      9.5\n",
              "205                        Forza Motorsport 3      ...      0.0\n",
              "151                Uncharted 2: Among Thieves      ...      9.2\n",
              "152            Call of Duty 4: Modern Warfare      ...      0.0\n",
              "185                           LittleBigPlanet      ...      9.2\n",
              "218                        Final Fantasy XIII      ...      9.0\n",
              "320                   Resistance: Fall of Man      ...      8.5\n",
              "50             Call of Duty: Modern Warfare 2      ...      9.0\n",
              "80                        Grand Theft Auto IV      ...      9.0\n",
              "94             Call of Duty 4: Modern Warfare      ...      0.0\n",
              "107                        Grand Theft Auto V      ...      0.0\n",
              "284                     Monster Hunter: World      ...      0.0\n",
              "340                         Street Fighter IV      ...      9.1\n",
              "243                           Resident Evil 5      ...      8.4\n",
              "261                Uncharted: Drake's Fortune      ...      8.7\n",
              "263                                 Fallout 3      ...      8.2\n",
              "274                          Assassin's Creed      ...      7.5\n",
              "\n",
              "[18 rows x 14 columns]"
            ]
          },
          "metadata": {
            "tags": []
          },
          "execution_count": 56
        }
      ]
    },
    {
      "cell_type": "code",
      "metadata": {
        "id": "1_gVvTAeL39e"
      },
      "source": [
        "games_interesse = games_limpo[(games_limpo[\"user_Score\"] > 8) & (games_limpo[\"na_sale\"] > 3)]"
      ],
      "execution_count": null,
      "outputs": []
    },
    {
      "cell_type": "code",
      "metadata": {
        "colab": {
          "base_uri": "https://localhost:8080/",
          "height": 616
        },
        "id": "2TEkdGX1CcWB",
        "outputId": "4408c3b5-f274-4556-eec9-0bd597e5a2cb"
      },
      "source": [
        "games_interesse.sort_values([\"user_Score\", \"tot_sale\"], ascending = False)"
      ],
      "execution_count": null,
      "outputs": [
        {
          "output_type": "execute_result",
          "data": {
            "text/html": [
              "<div>\n",
              "<style scoped>\n",
              "    .dataframe tbody tr th:only-of-type {\n",
              "        vertical-align: middle;\n",
              "    }\n",
              "\n",
              "    .dataframe tbody tr th {\n",
              "        vertical-align: top;\n",
              "    }\n",
              "\n",
              "    .dataframe thead th {\n",
              "        text-align: right;\n",
              "    }\n",
              "</style>\n",
              "<table border=\"1\" class=\"dataframe\">\n",
              "  <thead>\n",
              "    <tr style=\"text-align: right;\">\n",
              "      <th></th>\n",
              "      <th>title</th>\n",
              "      <th>user_Score</th>\n",
              "      <th>release_Date</th>\n",
              "      <th>console</th>\n",
              "      <th>url</th>\n",
              "      <th>publisher</th>\n",
              "      <th>developer</th>\n",
              "      <th>tot_sale</th>\n",
              "      <th>na_sale</th>\n",
              "      <th>pal_sale</th>\n",
              "      <th>jp_sale</th>\n",
              "      <th>other_sale</th>\n",
              "      <th>last_update</th>\n",
              "      <th>VGscore</th>\n",
              "    </tr>\n",
              "  </thead>\n",
              "  <tbody>\n",
              "    <tr>\n",
              "      <th>160</th>\n",
              "      <td>Red Dead Redemption</td>\n",
              "      <td>10.0</td>\n",
              "      <td>18th May 10</td>\n",
              "      <td>X360</td>\n",
              "      <td>http://www.vgchartz.com/game/31325/red-dead-re...</td>\n",
              "      <td>Rockstar Games</td>\n",
              "      <td>Rockstar San Diego</td>\n",
              "      <td>6.50</td>\n",
              "      <td>3.77</td>\n",
              "      <td>2.03</td>\n",
              "      <td>0.09</td>\n",
              "      <td>0.60</td>\n",
              "      <td>NaN</td>\n",
              "      <td>9.1</td>\n",
              "    </tr>\n",
              "    <tr>\n",
              "      <th>151</th>\n",
              "      <td>Uncharted 2: Among Thieves</td>\n",
              "      <td>9.6</td>\n",
              "      <td>13th Oct 09</td>\n",
              "      <td>PS3</td>\n",
              "      <td>http://www.vgchartz.com/game/28733/uncharted-2...</td>\n",
              "      <td>Sony Computer Entertainment</td>\n",
              "      <td>Naughty Dog</td>\n",
              "      <td>6.74</td>\n",
              "      <td>3.28</td>\n",
              "      <td>2.22</td>\n",
              "      <td>0.21</td>\n",
              "      <td>1.02</td>\n",
              "      <td>NaN</td>\n",
              "      <td>9.2</td>\n",
              "    </tr>\n",
              "    <tr>\n",
              "      <th>152</th>\n",
              "      <td>Call of Duty 4: Modern Warfare</td>\n",
              "      <td>9.6</td>\n",
              "      <td>05th Nov 07</td>\n",
              "      <td>PS3</td>\n",
              "      <td>http://www.vgchartz.com/game/7607/call-of-duty...</td>\n",
              "      <td>Activision</td>\n",
              "      <td>Infinity Ward</td>\n",
              "      <td>6.72</td>\n",
              "      <td>3.13</td>\n",
              "      <td>2.27</td>\n",
              "      <td>0.28</td>\n",
              "      <td>1.04</td>\n",
              "      <td>NaN</td>\n",
              "      <td>0.0</td>\n",
              "    </tr>\n",
              "    <tr>\n",
              "      <th>50</th>\n",
              "      <td>Call of Duty: Modern Warfare 2</td>\n",
              "      <td>9.0</td>\n",
              "      <td>10th Nov 09</td>\n",
              "      <td>X360</td>\n",
              "      <td>http://www.vgchartz.com/game/28848/call-of-dut...</td>\n",
              "      <td>Activision</td>\n",
              "      <td>Infinity Ward</td>\n",
              "      <td>13.53</td>\n",
              "      <td>8.54</td>\n",
              "      <td>3.63</td>\n",
              "      <td>0.08</td>\n",
              "      <td>1.28</td>\n",
              "      <td>NaN</td>\n",
              "      <td>9.0</td>\n",
              "    </tr>\n",
              "    <tr>\n",
              "      <th>80</th>\n",
              "      <td>Grand Theft Auto IV</td>\n",
              "      <td>9.0</td>\n",
              "      <td>29th Apr 08</td>\n",
              "      <td>PS3</td>\n",
              "      <td>http://www.vgchartz.com/game/7102/grand-theft-...</td>\n",
              "      <td>Rockstar Games</td>\n",
              "      <td>Rockstar North</td>\n",
              "      <td>10.57</td>\n",
              "      <td>4.79</td>\n",
              "      <td>3.73</td>\n",
              "      <td>0.44</td>\n",
              "      <td>1.62</td>\n",
              "      <td>NaN</td>\n",
              "      <td>9.0</td>\n",
              "    </tr>\n",
              "    <tr>\n",
              "      <th>94</th>\n",
              "      <td>Call of Duty 4: Modern Warfare</td>\n",
              "      <td>9.0</td>\n",
              "      <td>05th Nov 07</td>\n",
              "      <td>X360</td>\n",
              "      <td>http://www.vgchartz.com/game/7316/call-of-duty...</td>\n",
              "      <td>Activision</td>\n",
              "      <td>Infinity Ward</td>\n",
              "      <td>9.41</td>\n",
              "      <td>5.98</td>\n",
              "      <td>2.39</td>\n",
              "      <td>0.13</td>\n",
              "      <td>0.91</td>\n",
              "      <td>NaN</td>\n",
              "      <td>0.0</td>\n",
              "    </tr>\n",
              "    <tr>\n",
              "      <th>107</th>\n",
              "      <td>Grand Theft Auto V</td>\n",
              "      <td>9.0</td>\n",
              "      <td>18th Nov 14</td>\n",
              "      <td>XOne</td>\n",
              "      <td>http://www.vgchartz.com/game/73074/grand-theft...</td>\n",
              "      <td>Rockstar Games</td>\n",
              "      <td>Rockstar North</td>\n",
              "      <td>8.72</td>\n",
              "      <td>4.70</td>\n",
              "      <td>3.25</td>\n",
              "      <td>0.01</td>\n",
              "      <td>0.76</td>\n",
              "      <td>11th Apr 18</td>\n",
              "      <td>0.0</td>\n",
              "    </tr>\n",
              "    <tr>\n",
              "      <th>263</th>\n",
              "      <td>Fallout 3</td>\n",
              "      <td>8.6</td>\n",
              "      <td>28th Oct 08</td>\n",
              "      <td>X360</td>\n",
              "      <td>http://www.vgchartz.com/game/6992/fallout-3/?r...</td>\n",
              "      <td>Bethesda Softworks</td>\n",
              "      <td>Bethesda Game Studios</td>\n",
              "      <td>4.96</td>\n",
              "      <td>3.41</td>\n",
              "      <td>0.99</td>\n",
              "      <td>0.09</td>\n",
              "      <td>0.46</td>\n",
              "      <td>NaN</td>\n",
              "      <td>8.2</td>\n",
              "    </tr>\n",
              "  </tbody>\n",
              "</table>\n",
              "</div>"
            ],
            "text/plain": [
              "                                  title  user_Score  ...  last_update VGscore\n",
              "160             Red Dead Redemption            10.0  ...          NaN     9.1\n",
              "151      Uncharted 2: Among Thieves             9.6  ...          NaN     9.2\n",
              "152  Call of Duty 4: Modern Warfare             9.6  ...          NaN     0.0\n",
              "50   Call of Duty: Modern Warfare 2             9.0  ...          NaN     9.0\n",
              "80              Grand Theft Auto IV             9.0  ...          NaN     9.0\n",
              "94   Call of Duty 4: Modern Warfare             9.0  ...          NaN     0.0\n",
              "107              Grand Theft Auto V             9.0  ...  11th Apr 18     0.0\n",
              "263                       Fallout 3             8.6  ...          NaN     8.2\n",
              "\n",
              "[8 rows x 14 columns]"
            ]
          },
          "metadata": {
            "tags": []
          },
          "execution_count": 67
        }
      ]
    },
    {
      "cell_type": "markdown",
      "metadata": {
        "id": "7mg8CC7c2H51"
      },
      "source": [
        "Dos jogos mais com melhores pontuaçoes são do PS3 e do X360, nada da nintendo\n",
        "Jogos mais vendidos na America são os GTA´s e Call of Duty. \n",
        "Jogos para maiores de idade.\n",
        "Entre as editoras, a Activision e a Rockstar Games, são as que mais aparecem no rank.\n"
      ]
    },
    {
      "cell_type": "code",
      "metadata": {
        "colab": {
          "base_uri": "https://localhost:8080/",
          "height": 303
        },
        "id": "E0hlDtL44tj6",
        "outputId": "905904b3-4867-440c-8a08-c02fb0d1e8d8"
      },
      "source": [
        "sns.set_theme(style=\"whitegrid\")\n",
        "\n",
        "sns.set_theme(style=\"darkgrid\")\n",
        "\n",
        "# Load an example dataset with long-form data\n",
        "fmri = sns.load_dataset(\"fmri\")\n",
        "\n",
        "# Plot the responses for different events and regions\n",
        "sns.lineplot(x=\"timepoint\", y=\"signal\",\n",
        "             hue=\"region\", style=\"event\",\n",
        "             data=fmri)"
      ],
      "execution_count": null,
      "outputs": [
        {
          "output_type": "execute_result",
          "data": {
            "text/plain": [
              "<matplotlib.axes._subplots.AxesSubplot at 0x7fefee7920d0>"
            ]
          },
          "metadata": {
            "tags": []
          },
          "execution_count": 76
        },
        {
          "output_type": "display_data",
          "data": {
            "image/png": "[encoded data removed]",
            "text/plain": [
              "<Figure size 432x288 with 1 Axes>"
            ]
          },
          "metadata": {
            "tags": []
          }
        }
      ]
    },
    {
      "cell_type": "code",
      "metadata": {
        "colab": {
          "base_uri": "https://localhost:8080/",
          "height": 173
        },
        "id": "dt6Av3se636G",
        "outputId": "291acccc-e0dd-4d1e-9b7f-7941e6b0f592"
      },
      "source": [
        ""
      ],
      "execution_count": null,
      "outputs": [
        {
          "output_type": "error",
          "ename": "NameError",
          "evalue": "ignored",
          "traceback": [
            "\u001b[0;31m---------------------------------------------------------------------------\u001b[0m",
            "\u001b[0;31mNameError\u001b[0m                                 Traceback (most recent call last)",
            "\u001b[0;32m<ipython-input-63-6c0d81ae83ac>\u001b[0m in \u001b[0;36m<module>\u001b[0;34m()\u001b[0m\n\u001b[0;32m----> 1\u001b[0;31m \u001b[0mget_dataset_names\u001b[0m\u001b[0;34m(\u001b[0m\u001b[0;34m)\u001b[0m\u001b[0;34m\u001b[0m\u001b[0;34m\u001b[0m\u001b[0m\n\u001b[0m",
            "\u001b[0;31mNameError\u001b[0m: name 'get_dataset_names' is not defined"
          ]
        }
      ]
    }
  ]
}